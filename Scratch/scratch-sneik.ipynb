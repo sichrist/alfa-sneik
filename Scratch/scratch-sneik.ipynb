{
 "cells": [
  {
   "cell_type": "code",
   "execution_count": 13,
   "id": "44974e96-0804-4c8a-a929-5036ab33fb1d",
   "metadata": {},
   "outputs": [],
   "source": [
    "import cv2\n",
    "import numpy as np\n",
    "from collections import deque\n"
   ]
  },
  {
   "cell_type": "code",
   "execution_count": 24,
   "id": "7d150690-802a-41e1-b070-1a539fed8044",
   "metadata": {},
   "outputs": [],
   "source": [
    "\n",
    "def init(height=800,width=600,size=5):\n",
    "    frame = np.zeros((height,width,3)).astype(np.uint8)\n",
    "    x = int(np.random.uniform(50,750))\n",
    "    y = int(np.random.uniform(50,550))\n",
    "    frame[x-size:x+size,y-size:y+size,:] = [255,255,255]\n",
    "    return frame,[x,y]"
   ]
  },
  {
   "cell_type": "code",
   "execution_count": 10,
   "id": "826f7ba3-4d4a-4350-aba0-2b2b565ace8b",
   "metadata": {},
   "outputs": [],
   "source": [
    "windowname =\"window\"\n",
    "cv2.namedWindow(windowname)\n",
    "cv2.moveWindow(windowname,2600,40)"
   ]
  },
  {
   "cell_type": "code",
   "execution_count": 4,
   "id": "0e7479a3-5966-449f-8fd8-10ec9c13d955",
   "metadata": {},
   "outputs": [],
   "source": [
    "def render(frame):\n",
    "    cv2.imshow(windowname,frame)\n",
    "    if cv2.waitKey(25) & 0XFF == ord('q'):\n",
    "        return True"
   ]
  },
  {
   "cell_type": "code",
   "execution_count": 11,
   "id": "cf57b6f8-453a-4091-a916-975ea2d95cd6",
   "metadata": {},
   "outputs": [],
   "source": [
    "frame = init()\n",
    "while True:\n",
    "    if(): \n",
    "        break\n",
    "cv2.destroyAllWindows()"
   ]
  },
  {
   "cell_type": "code",
   "execution_count": 53,
   "id": "5d8f4009-89fa-4b2b-848d-0969a5e942d7",
   "metadata": {},
   "outputs": [],
   "source": [
    "class Sneik:\n",
    "    def __init__(self, pos,thickness=1):\n",
    "        self.body       = deque([pos])\n",
    "        self.thickness  = thickness\n",
    "        self.direc      = [1,0]\n",
    "    \n",
    "    def update_direc(self,x,y):\n",
    "        if np.abs(x)+np.abs(y) > 1: \n",
    "            return\n",
    "        if x+self.direc[0] == 0 or y+self.direc[1] == 0:\n",
    "            return\n",
    "        self.direc[0] = x\n",
    "        self.direc[1] = y\n",
    "    \n",
    "    def move(self):\n",
    "        head = self.body[0]\n",
    "        head[0] += self.direc[0]\n",
    "        head[1] += self.direc[1]\n",
    "        self.body.appendleft(head)\n",
    "        self.body.pop()\n",
    "    \n",
    "    def render(self,frame):\n",
    "        for (x,y) in self.body:\n",
    "            frame[x-self.thickness:x+self.thickness,y-self.thickness:y+self.thickness, :] = [255,255,255]\n",
    "        return frame\n",
    "\n",
    "    \n",
    "frame = init()[0]\n",
    "sneik = Sneik(init()[-1])\n",
    "sneik.render(frame)\n",
    "for i in range(500):\n",
    "    sneik.move()\n",
    "    new_frame = sneik.render(frame)\n",
    "    frame     = new_frame\n",
    "    if i == 25: \n",
    "        sneik.update_direc(0,1)\n",
    "    cv2.imshow(windowname,frame)\n",
    "    if cv2.waitKey(25) & 0XFF == ord('q'):\n",
    "        break\n",
    "cv2.destroyAllWindows()"
   ]
  }
 ],
 "metadata": {
  "kernelspec": {
   "display_name": "Python 3",
   "language": "python",
   "name": "python3"
  },
  "language_info": {
   "codemirror_mode": {
    "name": "ipython",
    "version": 3
   },
   "file_extension": ".py",
   "mimetype": "text/x-python",
   "name": "python",
   "nbconvert_exporter": "python",
   "pygments_lexer": "ipython3",
   "version": "3.9.4"
  }
 },
 "nbformat": 4,
 "nbformat_minor": 5
}
